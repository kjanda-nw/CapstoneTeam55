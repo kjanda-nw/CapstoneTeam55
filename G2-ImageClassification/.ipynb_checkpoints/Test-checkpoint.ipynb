{
 "cells": [
  {
   "cell_type": "code",
   "execution_count": 29,
   "metadata": {
    "colab": {},
    "colab_type": "code",
    "id": "qN97u3NIV6p3"
   },
   "outputs": [],
   "source": [
    "# make a prediction for a new image\n",
    "import pandas as pd\n",
    "from keras.preprocessing.image import load_img\n",
    "from keras.preprocessing.image import img_to_array\n",
    "from keras.models import load_model\n",
    "\n",
    "# create a mapping of tags to integers given the loaded mapping file\n",
    "def create_tag_mapping(mapping_csv):\n",
    "\t# create a set of all known tags\n",
    "\tlabels = set()\n",
    "\tfor i in range(len(mapping_csv)):\n",
    "\t\t# convert spaced separated tags into an array of tags\n",
    "\t\ttags = mapping_csv['tags'][i].split(' ')\n",
    "\t\t# add tags to the set of known labels\n",
    "\t\tlabels.update(tags)\n",
    "\t# convert set of labels to a list to list\n",
    "\tlabels = list(labels)\n",
    "\t# order set alphabetically\n",
    "\tlabels.sort()\n",
    "\t# dict that maps labels to integers, and the reverse\n",
    "\tlabels_map = {labels[i]:i for i in range(len(labels))}\n",
    "\tinv_labels_map = {i:labels[i] for i in range(len(labels))}\n",
    "\treturn labels_map, inv_labels_map\n",
    "\n",
    "# convert a prediction to tags\n",
    "def prediction_to_tags(inv_mapping, prediction):\n",
    "\t# round probabilities to {0, 1}\n",
    "\tvalues = prediction.round()\n",
    "\t# collect all predicted tags\n",
    "\ttags = [inv_mapping[i] for i in range(len(values)) if values[i] == 1.0]\n",
    "\treturn tags\n",
    "\n",
    "# load and prepare the image\n",
    "def load_image(filename):\n",
    "\t# load the image\n",
    "\timg = load_img(filename, target_size=(64, 64))\n",
    "\t# convert to array\n",
    "\timg = img_to_array(img)\n",
    "\t# reshape into a single sample with 3 channels\n",
    "\timg = img.reshape(1, 64, 64, 3)\n",
    "\t# center pixel data\n",
    "\timg = img.astype('float32')\n",
    "\timg = img - [123.68, 116.779, 103.939]\n",
    "\treturn img\n",
    "\n",
    "# load an image and predict the class\n",
    "def run_example(inv_mapping):\n",
    "    # load model\n",
    "    model = load_model('../../Data/VGG16_064.h5')\n",
    "    probabilities = pd.DataFrame(columns=['Image_Number','pr_agriculture', 'pr_artisinal_mine','pr_bare_ground',\n",
    "                                          'pr_blooming', 'pr_blow_down', 'pr_clear', 'pr_cloudy', \n",
    "                                          'pr_conventional_mine', 'pr_cultivation', 'pr_habitation', 'pr_haze', \n",
    "                                          'pr_partly_cloudy', 'pr_primary', 'pr_road', 'pr_selective_logging', \n",
    "                                          'pr_slash_burn', 'pr_water'])\n",
    "    predictions = []\n",
    "    # load the image\n",
    "    for i in range(40669):\n",
    "        image = \"../../Data/test-jpg/test_\" + str(i) + \".jpg\"\n",
    "        img = load_image(image)\n",
    "        # predict the class\n",
    "        result = model.predict(img)\n",
    "        imgn = 'test_'+ str(i)\n",
    "        rownt = list(result[0])\n",
    "        newrow = [imgn] + rownt\n",
    "        probabilities.loc[i] = newrow\n",
    "        # map prediction to tags\n",
    "        tags = prediction_to_tags(inv_mapping, result[0])\n",
    "        predictions.append(tags)\n",
    "        \n",
    "    return (probabilities, predictions)\n",
    "\n",
    "# load the mapping file\n",
    "filename = '../../Data/train_v2.csv'\n",
    "mapping_csv = read_csv(filename)\n",
    "# create a mapping of tags to integers\n",
    "_, inv_mapping = create_tag_mapping(mapping_csv)\n",
    "# entry point, run the example\n",
    "probabilities, predictions = run_example(inv_mapping)"
   ]
  },
  {
   "cell_type": "code",
   "execution_count": 27,
   "metadata": {},
   "outputs": [],
   "source": [
    "probabilities.to_csv(\"../MobileApp/images.csv\")"
   ]
  },
  {
   "cell_type": "code",
   "execution_count": 28,
   "metadata": {},
   "outputs": [
    {
     "ename": "AttributeError",
     "evalue": "'list' object has no attribute 'to_csv'",
     "output_type": "error",
     "traceback": [
      "\u001b[0;31m---------------------------------------------------------------------------\u001b[0m",
      "\u001b[0;31mAttributeError\u001b[0m                            Traceback (most recent call last)",
      "\u001b[0;32m<ipython-input-28-734740c8ec95>\u001b[0m in \u001b[0;36m<module>\u001b[0;34m\u001b[0m\n\u001b[0;32m----> 1\u001b[0;31m \u001b[0mpredictions\u001b[0m\u001b[0;34m.\u001b[0m\u001b[0mto_csv\u001b[0m\u001b[0;34m(\u001b[0m\u001b[0;34m\"../MobileApp/predictions.csv\"\u001b[0m\u001b[0;34m)\u001b[0m\u001b[0;34m\u001b[0m\u001b[0;34m\u001b[0m\u001b[0m\n\u001b[0m",
      "\u001b[0;31mAttributeError\u001b[0m: 'list' object has no attribute 'to_csv'"
     ]
    }
   ],
   "source": [
    "#predictions.to_csv(\"../MobileApp/predictions.csv\")"
   ]
  },
  {
   "cell_type": "code",
   "execution_count": null,
   "metadata": {},
   "outputs": [],
   "source": []
  }
 ],
 "metadata": {
  "colab": {
   "authorship_tag": "ABX9TyPn7sAumDoXx3BCKHP0KAYt",
   "collapsed_sections": [],
   "name": "Test.ipynb",
   "provenance": [
    {
     "file_id": "13w9-srl306j8wbIXyxJSCioe_ALZWtCl",
     "timestamp": 1590653612143
    }
   ]
  },
  "kernelspec": {
   "display_name": "Python 3",
   "language": "python",
   "name": "python3"
  },
  "language_info": {
   "codemirror_mode": {
    "name": "ipython",
    "version": 3
   },
   "file_extension": ".py",
   "mimetype": "text/x-python",
   "name": "python",
   "nbconvert_exporter": "python",
   "pygments_lexer": "ipython3",
   "version": "3.7.4"
  }
 },
 "nbformat": 4,
 "nbformat_minor": 1
}
